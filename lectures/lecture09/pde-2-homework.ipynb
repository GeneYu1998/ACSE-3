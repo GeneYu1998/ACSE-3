{
 "cells": [
  {
   "cell_type": "code",
   "execution_count": 1,
   "metadata": {},
   "outputs": [
    {
     "data": {
      "text/html": [
       "<style>\n",
       "div.optional {\n",
       "    display: block;\n",
       "    background-color: #d7e2ff;\n",
       "    border-color: #d7e2ff;\n",
       "    border-left: 5px solid #d7e2ff;\n",
       "    padding: 0.5em;\n",
       "}\n",
       "div.advanced {\n",
       "    display: block;\n",
       "    background-color: #fff4d7;\n",
       "    border-color: #fff4d7;\n",
       "    border-left: 5px solid #fff4d7;\n",
       "    padding: 0.5em;\n",
       "}\n",
       "</style>\n"
      ],
      "text/plain": [
       "<IPython.core.display.HTML object>"
      ]
     },
     "metadata": {},
     "output_type": "display_data"
    }
   ],
   "source": [
    "%%html\n",
    "<style>\n",
    "div.optional {\n",
    "    display: block;\n",
    "    background-color: #d7e2ff;\n",
    "    border-color: #d7e2ff;\n",
    "    border-left: 5px solid #d7e2ff;\n",
    "    padding: 0.5em;\n",
    "}\n",
    "div.advanced {\n",
    "    display: block;\n",
    "    background-color: #fff4d7;\n",
    "    border-color: #fff4d7;\n",
    "    border-left: 5px solid #fff4d7;\n",
    "    padding: 0.5em;\n",
    "}\n",
    "</style>"
   ]
  },
  {
   "cell_type": "markdown",
   "metadata": {
    "slideshow": {
     "slide_type": "slide"
    }
   },
   "source": [
    "# ACSE-3 (Numerical Methods) <a class=\"tocSkip\">\n",
    "\n",
    "## Lecture 9: Partial Differential Equations (PDEs) 2 <a class=\"tocSkip\">\n",
    "    \n",
    "### Homework exercises <a class=\"tocSkip\">"
   ]
  },
  {
   "cell_type": "markdown",
   "metadata": {
    "toc": true
   },
   "source": [
    "<h1>Table of Contents<span class=\"tocSkip\"></span></h1>\n",
    "<div class=\"toc\"><ul class=\"toc-item\"><li><span><a href=\"#Homework\" data-toc-modified-id=\"Homework-1\"><span class=\"toc-item-num\">1&nbsp;&nbsp;</span>Homework</a></span><ul class=\"toc-item\"><li><span><a href=\"#Homework---Comparing-linear-solvers-(Jacobi-vs-Gauss-Seidel)\" data-toc-modified-id=\"Homework---Comparing-linear-solvers-(Jacobi-vs-Gauss-Seidel)-1.1\"><span class=\"toc-item-num\">1.1&nbsp;&nbsp;</span>Homework - Comparing linear solvers (Jacobi vs Gauss-Seidel)</a></span></li><li><span><a href=\"#Homework---matrix-based-solvers-[$\\star\\star$]---not-really-any-question-here,-just-read-through-solution-for-interest\" data-toc-modified-id=\"Homework---matrix-based-solvers-[$\\star\\star$]---not-really-any-question-here,-just-read-through-solution-for-interest-1.2\"><span class=\"toc-item-num\">1.2&nbsp;&nbsp;</span>Homework - matrix based solvers [$\\star\\star$] - not really any question here, just read through solution for interest</a></span><ul class=\"toc-item\"><li><span><a href=\"#Imposing-boundary-conditions\" data-toc-modified-id=\"Imposing-boundary-conditions-1.2.1\"><span class=\"toc-item-num\">1.2.1&nbsp;&nbsp;</span>Imposing boundary conditions</a></span></li><li><span><a href=\"#Solution---matrix-based-solvers\" data-toc-modified-id=\"Solution---matrix-based-solvers-1.2.2\"><span class=\"toc-item-num\">1.2.2&nbsp;&nbsp;</span>Solution - matrix based solvers</a></span><ul class=\"toc-item\"><li><span><a href=\"#Some-timings\" data-toc-modified-id=\"Some-timings-1.2.2.1\"><span class=\"toc-item-num\">1.2.2.1&nbsp;&nbsp;</span>Some timings</a></span></li></ul></li><li><span><a href=\"#Solution---Timings-and-errors-(numbers-I-obtained---not-all-run-by-default!)\" data-toc-modified-id=\"Solution---Timings-and-errors-(numbers-I-obtained---not-all-run-by-default!)-1.2.3\"><span class=\"toc-item-num\">1.2.3&nbsp;&nbsp;</span>Solution - Timings and errors (numbers I obtained - not all run by default!)</a></span></li></ul></li><li><span><a href=\"#Homework---A-case-with-a-non-zero-RHS-and-homogeneous-Dirichlet-BCs\" data-toc-modified-id=\"Homework---A-case-with-a-non-zero-RHS-and-homogeneous-Dirichlet-BCs-1.3\"><span class=\"toc-item-num\">1.3&nbsp;&nbsp;</span>Homework - A case with a non-zero RHS and homogeneous Dirichlet BCs</a></span></li><li><span><a href=\"#Homework---A-case-with-a-non-zero-RHS-and-inhomogeneous-Dirichlet-BCs\" data-toc-modified-id=\"Homework---A-case-with-a-non-zero-RHS-and-inhomogeneous-Dirichlet-BCs-1.4\"><span class=\"toc-item-num\">1.4&nbsp;&nbsp;</span>Homework - A case with a non-zero RHS and inhomogeneous Dirichlet BCs</a></span></li><li><span><a href=\"#Homework---Alternative-solver-methods-for-Navier-Stokes-[$\\star\\star\\star$]\" data-toc-modified-id=\"Homework---Alternative-solver-methods-for-Navier-Stokes-[$\\star\\star\\star$]-1.5\"><span class=\"toc-item-num\">1.5&nbsp;&nbsp;</span>Homework - Alternative solver methods for Navier-Stokes [$\\star\\star\\star$]</a></span></li></ul></li></ul></div>"
   ]
  },
  {
   "cell_type": "code",
   "execution_count": null,
   "metadata": {},
   "outputs": [],
   "source": [
    "%precision 3\n",
    "%matplotlib inline\n",
    "import numpy as np\n",
    "import matplotlib.pyplot as plt\n",
    "import scipy.linalg as sl\n",
    "import scipy.sparse as sp\n",
    "import scipy.sparse.linalg as spla\n",
    "# the following allows us to plot triangles indicating convergence order\n",
    "from mpltools import annotation\n",
    "# as we're in 2D we will be doing some 3D plotting\n",
    "from mpl_toolkits.mplot3d import Axes3D\n",
    "# and using some colormaps\n",
    "from matplotlib import cm\n",
    "# and we will create some animations!\n",
    "import matplotlib.animation as animation\n",
    "from IPython.display import HTML\n",
    "from pprint import pprint"
   ]
  },
  {
   "cell_type": "markdown",
   "metadata": {},
   "source": [
    "# Homework\n"
   ]
  },
  {
   "cell_type": "markdown",
   "metadata": {},
   "source": [
    "## Homework - Comparing linear solvers (Jacobi vs Gauss-Seidel)\n",
    "\n",
    "In the lecture we considered the problem \n",
    "\n",
    "$$ \\frac{\\partial^2 c}{\\partial x^2} + \\frac{\\partial^2 c}{\\partial y^2} \\equiv \\nabla^2 c = f, $$\n",
    "\n",
    "with an analytical solution which was chosen such that its Laplacian is zero (i.e. $f\\equiv 0$)\n",
    "\n",
    "$$ c_{\\text{exact}}(x,y) =\\frac{\\sin(2\\pi x)\\sinh(2\\pi y)}{\\sinh(2\\pi)},$$\n",
    "\n",
    "and we used the value of this exact solution to define Dirichlet BCs for our problem.\n",
    "\n",
    "The difference between the Jacobi solver we used in the lecture and Gauss-Seidel is that with G-S we make use of updated solution values as soon as they are available - we don't wait until the next iteration to make use of them. We saw in L3 that this approach can lead to faster convergence (in terms of the number of  required iterations - of course not overall if each iteration costs a different amount).\n",
    "\n",
    "We can write the iterative scheme in the Gauss-Seidel case as:\n",
    "\n",
    "$$ c^{k+1}_{i,j} = \\frac{1}{4}\\left(c^{k}_{i+1,j}  + c_{i-1,j}^{k+1} + c^{k}_{i,j+1} + c^{k+1}_{i,j-1} - \\Delta x^2 f_{i,j} \\right), $$\n",
    "\n",
    "where we have made an assumption on the order we perform the update in $i$ and $j$, i.e. for a given $i,j$ we assume we have already visiting and updated the values at the $i-1$ and the $j-1$ locations.\n",
    "\n",
    "Write some code to compare the number of iterations and overall time to solve the above Poisson problem with Dirichlet BCs  to a given tolerance using our vectorised Jacobi code from the lecture, as well as non-vectorised versions of Jacobi and Gauss-Seidel. \n",
    "\n",
    "In order to compute timings you could turn these three solvers into functions and use `%timeit` as we have done in previous homeworks."
   ]
  },
  {
   "cell_type": "markdown",
   "metadata": {},
   "source": [
    "<div class=\"advanced\">\n",
    "\n",
    "## Homework - matrix based solvers [$\\star\\star$] - not really any question here, just read through solution for interest\n",
    "\n",
    "    \n",
    "***The following is taken direct from the lecture - it then extends by considering some matrix based solver options***\n",
    "    \n",
    "<br>\n",
    "\n",
    "Alternatively (to open up a wider range of solver options) we can cast the problem is the matrix form\n",
    "\n",
    "$$A\\boldsymbol{C} = \\boldsymbol{b},$$\n",
    "\n",
    "and solve with standard methods such as Gaussian elimination or conjugate gradients (we will see that for the Laplace operator $A$ is symmetric positive definite).\n",
    "\n",
    "The first step for constructing the matrix-vector multiplication on the LHS is to assume a numbering which allows us to reshape the $N_x\\times N_y$ unknowns making up \n",
    "\n",
    "$$\\boldsymbol{c} = \\{c_{ij}\\}, \\;\\;\\;\\;\\; i=0,\\ldots, N_x-1,\\;\\;\\;\\; j=0,\\ldots, N_y-1,$$  \n",
    "\n",
    "into an $N_xN_y \\times 1$ column vector \n",
    "\n",
    "$$\\boldsymbol{C} = \\{C_{k}\\}, \\;\\;\\;\\;\\; k=0,\\ldots, N_x\\times N_y-1.$$\n",
    "\n",
    "There are several ways we can go back and forth between these numberings in Python - read the docs on `reshape`, `flatten`, `ravel`:\n",
    "\n",
    "(note that these implement what is called [*row major ordering*](https://en.wikipedia.org/wiki/Row-_and_column-major_order))"
   ]
  },
  {
   "cell_type": "code",
   "execution_count": null,
   "metadata": {},
   "outputs": [],
   "source": [
    "a = np.array([[1,2,3],[4,5,6]])\n",
    "pprint(a)\n",
    "pprint(a.ravel())\n",
    "pprint(a.flatten())\n",
    "pprint(a.reshape(-1))\n",
    "\n",
    "print('\\n')\n",
    "# this is how we can go back again\n",
    "a2 = a.ravel()\n",
    "pprint(a2)\n",
    "pprint(a2.reshape(np.shape(a)))\n",
    "\n",
    "print('\\n')\n",
    "# this shows that \"C ordering\" is the default row-major behaviour we will use\n",
    "pprint(a.ravel(order='C'))\n",
    "# and this shows that \"Fortran ordering\" is column-major\n",
    "pprint(a.ravel(order='F'))"
   ]
  },
  {
   "cell_type": "markdown",
   "metadata": {},
   "source": [
    "### Imposing boundary conditions\n",
    "\n",
    "\n",
    "1. The simplest approach to applying Dirichlet BCs would be to replace the corresponding row of the matrix with a 1 on the diagonal, zero in all other row entries and set the Dirichlet BC value in the corresponding row of the RHS matrix. The problem with this approach is that it destroys the symmetry of the LHS matrix which we can exploit in solvers (and indeed which is a requirement for the use of certain solvers) - this is because we have edited the row, but can't similarly edit the corresponding column without messing up the discretisation for other nodes.\n",
    "\n",
    "\n",
    "2. The second approach is to leave the row unchanged but set a very large number on the diagonal, and set this large number multiplied by our Dirichlet BC value in the corresponding row of the RHS matrix. This is sometimes called the *big spring* method.\n",
    "\n",
    "\n",
    "3. And finally *Lifting*, which we do below, which involves removing the rows and columns corresponding to the boundary nodes from the discretisation matrix."
   ]
  },
  {
   "cell_type": "markdown",
   "metadata": {},
   "source": [
    "### Solution - matrix based solvers\n",
    "\n",
    "The code below that assembles the discretisation matrix is quite advanced.\n",
    "\n",
    "To try and understand what is going on you will need to read what some new NumPy commands do: [`numpy.ix_`](https://docs.scipy.org/doc/numpy/reference/generated/numpy.ix_.html) and [`numpy.kron`](https://docs.scipy.org/doc/numpy/reference/generated/numpy.kron.html)\n",
    "\n",
    "Note that we use the \"lifting\" approach to apply BCs - this means we need to remove the rows and columns that correspond to degrees of freedom on the boundary from the solve - we make the matrix problem solver. We will add back in the BC values before ultimately plotting the solution."
   ]
  },
  {
   "cell_type": "code",
   "execution_count": null,
   "metadata": {},
   "outputs": [],
   "source": [
    "def Poisson_2D_Dirichlet_FD(X, Y, RHS_f, DBC):\n",
    "    \"\"\" Form (i.e. assemble) the discretised Poisson problem \n",
    "    in 2D using second-order finite differences,\n",
    "    with the RHS function given by RHS_F \n",
    "    and Dirichlet boundary conditions given in the function DBC.\n",
    "    \n",
    "    As we assume Dirichlet BCs in this implementation, here we return \n",
    "    the \"interior\" mesh data structures X_int, i_int etc, and the \n",
    "    associated discretised A matrix and RHS vector.\n",
    "\n",
    "    We don't actually solve the assembled system in this function.\n",
    "    \"\"\"\n",
    "    Nx = np.shape(X)[0]\n",
    "    Ny = np.shape(Y)[1]\n",
    "    # our code below is only currently for the case Nx=Ny (and dx=dy)\n",
    "    assert Nx==Ny\n",
    "    \n",
    "    # ID the boundary nodes - initialise the ID to 1 for ALL nodes\n",
    "    bndry_node = np.ones_like(X)\n",
    "    # and overwrite with zeros for the interior nodes, leaving 1 only on boundary \n",
    "    bndry_node[1:-1, 1:-1] = 0\n",
    "\n",
    "    # we won't be solving for boundary node values (\"lifting approach)\", \n",
    "    # so define data strucutres for the domain \"interior\"\n",
    "    i_int = np.arange(1, Nx-1)\n",
    "    j_int = np.arange(1, Ny-1)\n",
    "\n",
    "    # the mesh in the interior - read the docs to see what `numpy.ix_` does:\n",
    "    # \" Using ix_ one can quickly construct index arrays ... \n",
    "    # a[np.ix_([1,3],[2,5])] returns the array [[a[1,2] a[1,5]], [a[3,2] a[3,5]]]. \"\n",
    "    X_int = X[np.ix_(i_int, j_int)]\n",
    "    Y_int = Y[np.ix_(i_int, j_int)]\n",
    "\n",
    "    # form the LHS discretisation matrix which is built up from some\n",
    "    # fundamental matrices in x and y\n",
    "    ex = np.ones((Nx-2, 1))\n",
    "    ey = np.ones((Ny-2, 1))\n",
    "\n",
    "    Tx = np.diagflat(ex[1:], k=-1) - 2*np.diagflat(ex, k=0) + np.diagflat(ex[1:], k=1)\n",
    "    Ty = np.diagflat(ey[1:], k=-1) - 2*np.diagflat(ey, k=0) + np.diagflat(ey[1:], k=1)\n",
    "\n",
    "    # this is some magic to arrive at the desired discretisation matrix\n",
    "    # could equally well assemble the discretisation matrix via the appropriate loops\n",
    "    A_int = (np.kron(np.eye(Ny-2), Tx) + np.kron(Ty, np.eye(Nx-2))) / dx**2\n",
    "       \n",
    "    # Use the given function f to set the RHS\n",
    "    RHS_int = RHS_f(X_int,Y_int)\n",
    "\n",
    "    # and update the RHS based on given Dirichlet BCs (\"lifting approach\")\n",
    "    RHS_int[:, 0] = RHS_int[:, 0] - DBC(X[i_int, 0], Y[i_int, 0]) / dx**2\n",
    "    RHS_int[:, -1] = RHS_int[:, -1] - DBC(X[i_int, -1], Y[i_int, -1]) / dx**2\n",
    "    RHS_int[0, :] = RHS_int[0, :] - DBC(X[0, j_int], Y[0, j_int]) / dx**2\n",
    "    RHS_int[-1, :] = RHS_int[-1, :] - DBC(X[-1, j_int], Y[-1, j_int]) /dx**2   \n",
    "   \n",
    "    # row-major numbering\n",
    "    RHS_int = RHS_int.flatten('C')\n",
    "    \n",
    "    return A_int, RHS_int, X_int, Y_int, i_int, j_int\n",
    "\n",
    "# we'll assume uniform mesh in x and y direction for simplicity\n",
    "# can easily be generalised\n",
    "\n",
    "# Size of rectangular domain\n",
    "Lx = 1\n",
    "Ly = Lx\n",
    "\n",
    "# Number of grid points in each direction, including boundary nodes\n",
    "Nx = 20\n",
    "Ny = Nx\n",
    "\n",
    "# hence the mesh spacing\n",
    "dx = Lx/(Nx-1)\n",
    "dy = Ly/(Ny-1)\n",
    "\n",
    "X, Y = np.mgrid[0:Nx:1, 0:Ny:1]\n",
    "X = dx*X\n",
    "Y = dy*Y\n",
    "\n",
    "# Give the functions defining our problem\n",
    "\n",
    "# If we know the exact solution we can compute exact errors\n",
    "def c_exact(X,Y):\n",
    "    return np.sin(2*np.pi*X)*np.sinh(2*np.pi*Y)/np.sinh(2*np.pi)\n",
    "\n",
    "# A function giving the RHS\n",
    "def RHS_f(X,Y):\n",
    "    return np.zeros_like(X)\n",
    "\n",
    "# A function to return Dirichlet BCs - if we have an exact solution we can \n",
    "# just point at that.\n",
    "def DBC(X,Y):\n",
    "    return c_exact(X,Y)\n",
    "\n",
    "# Let's call the above to assemble the discrete system\n",
    "A_int, RHS_int, X_int, Y_int, i_int, j_int = Poisson_2D_Dirichlet_FD(X,Y,RHS_f,DBC)"
   ]
  },
  {
   "cell_type": "code",
   "execution_count": null,
   "metadata": {},
   "outputs": [],
   "source": [
    "# let's plot the sparsity pattern of our discretisation matrix A\n",
    "\n",
    "fig = plt.figure(figsize=(6, 6))\n",
    "ax = fig.add_subplot(111)\n",
    "ax.spy(A_int);"
   ]
  },
  {
   "cell_type": "code",
   "execution_count": null,
   "metadata": {},
   "outputs": [],
   "source": [
    "# solve and plot solution\n",
    "\n",
    "# solve using scipy's solve (a direct method)\n",
    "C_int = sl.solve(A_int, RHS_int)\n",
    "\n",
    "# revert back to a 2D numbering format\n",
    "c_int = C_int.reshape(np.shape(X_int))\n",
    "\n",
    "# Initialise the full solution over the entire domain via a copy of the exact solution\n",
    "# this will have the effect of correctly including the Dirichlet BCs in what we \n",
    "# ultimately plot\n",
    "c = np.copy(c_exact(X,Y))\n",
    "\n",
    "# now overwrite all but the BC values with our interior numerical solution\n",
    "c[np.ix_(i_int, j_int)] = c_int\n",
    "\n",
    "# plot the solution as a 3D surface\n",
    "fig = plt.figure(figsize=(12, 6))\n",
    "\n",
    "ax = fig.add_subplot(1, 2, 1, projection='3d')\n",
    "surf = ax.plot_surface(X, Y, c, rstride=1, cstride=1,\n",
    "                       cmap=cm.coolwarm, linewidth=0, antialiased=True)\n",
    "fig.colorbar(surf, shrink=0.5, aspect=5)\n",
    "ax.set_xlim(0, Lx)\n",
    "ax.set_ylim(0, Ly)\n",
    "ax.set_xlabel('$x$', fontsize=14)\n",
    "ax.set_ylabel('$y$', fontsize=14)\n",
    "ax.set_zlabel('$C$', fontsize=14)\n",
    "ax.set_title('2D Poisson problem', fontsize=14)\n",
    "\n",
    "# plot the solution as a 2D contour plot\n",
    "ax = fig.add_subplot(1, 2, 2)\n",
    "ax.contour(X, Y, c, cmap=cm.coolwarm)\n",
    "ax.set_xlim(0, Lx)\n",
    "ax.set_ylim(0, Ly)\n",
    "ax.set_xlabel('$x$', fontsize=14)\n",
    "ax.set_ylabel('$y$', fontsize=14)\n",
    "ax.set_title('2D Poisson problem', fontsize=14)\n",
    "\n",
    "print('Error (RMS) = %.4e' % (sl.norm(c_exact(X,Y) - c,  'fro')/(np.sqrt(Nx*Ny))))\n",
    "print('Error (inf) = %.4e' % (np.max(np.fabs(c_exact(X,Y) - c))))"
   ]
  },
  {
   "cell_type": "markdown",
   "metadata": {},
   "source": [
    "#### Some timings\n",
    "\n",
    "Note that this is a situation where we can start generating some quite large matrix systems we may want to solve in anger. \n",
    "\n",
    "We have multiple solvers available to us and so it is interesting to compare their computational efficiency"
   ]
  },
  {
   "cell_type": "code",
   "execution_count": null,
   "metadata": {},
   "outputs": [],
   "source": [
    "%%timeit\n",
    "C_int = sl.solve(A_int, RHS_int)"
   ]
  },
  {
   "cell_type": "code",
   "execution_count": null,
   "metadata": {},
   "outputs": [],
   "source": [
    "%%timeit\n",
    "# Use CG method\n",
    "C_int = spla.cg(A_int, RHS_int, x0=None, tol=1e-10, maxiter=1000)"
   ]
  },
  {
   "cell_type": "code",
   "execution_count": null,
   "metadata": {},
   "outputs": [],
   "source": [
    "# As most entries of A are zero let's use a sparse data storage method\n",
    "sA_int = sp.csc_matrix(A_int)"
   ]
  },
  {
   "cell_type": "code",
   "execution_count": null,
   "metadata": {},
   "outputs": [],
   "source": [
    "%%timeit\n",
    "# Use CG method on sparse matrix\n",
    "C_int = spla.cg(sA_int, RHS_int, x0=None, tol=1e-10, maxiter=1000)"
   ]
  },
  {
   "cell_type": "markdown",
   "metadata": {},
   "source": [
    "### Solution - Timings and errors (numbers I obtained - not all run by default!)\n",
    "\n",
    "\n",
    "|              |  10 x 10       |  20 x 20       |  40 x 40         |  80 x 80       | 160 x 160      | \n",
    "| ------------ |----------------|----------------|------------------|----------------|----------------|\n",
    "| Error1       | 4.9666e-03     | 1.2096e-03     | 2.9629e-04       | 7.3227e-05     | 1.8197e-05     |\n",
    "| Error2       | 1.3400e-02     | 3.3101e-03     | 7.9268e-04       | 1.9362e-04     | 4.7849e-05     |\n",
    "| LU           | 137 µs         | 2.15 ms        | 90.7 ms          |  4.29 s        | 3min 40s       |\n",
    "| CG           | 523 µs         | 1.45 ms        | 48.5 ms          |  1.56 s        | 49.2s          |\n",
    "| CG/Sparse    | 502 µs         | 1.03 ms        | 3.43 ms          |  18.6 ms       | 81 ms (231)    | \n",
    "\n"
   ]
  },
  {
   "cell_type": "code",
   "execution_count": null,
   "metadata": {},
   "outputs": [],
   "source": [
    "# let's plot the timings\n",
    "\n",
    "fig = plt.figure(figsize=(12, 6))\n",
    "ax = fig.add_subplot(121)\n",
    "\n",
    "DoFs = np.array([10*10, 20*20, 40*40, 80*80, 160*160])\n",
    "\n",
    "ax.loglog(DoFs, [137e-6, 2.15e-3, 90.7e-3, 4.29, 3*60+40], 'ko-', label='LU')\n",
    "ax.loglog(DoFs, np.power(3.0e-4*DoFs, 3), 'k--')\n",
    "ax.loglog(DoFs, np.power(2.5e-4*DoFs, 2.5), 'k--')\n",
    "\n",
    "ax.loglog(DoFs, [523e-6, 1.45e-3, 48.5e-3, 1.56, 49.2], 'bo-', label='CG')\n",
    "ax.loglog(DoFs, np.power(1.5e-4*DoFs, 2.5), 'b--')\n",
    "\n",
    "ax.loglog(DoFs, [502e-6, 1.03e-3, 3.43e-3, 18.6e-3, 81e-3], 'ro-', label='CG - sparse')\n",
    "ax.loglog(DoFs, 2e-7*DoFs*np.log(DoFs), 'r--')\n",
    "\n",
    "ax.legend(loc='best')\n",
    "ax.set_xlabel('Degrees of freedom', fontsize=14)\n",
    "ax.set_ylabel('Run time [s]', fontsize=14)\n",
    "\n",
    "ax = fig.add_subplot(122)\n",
    "DoFs = np.array([10*10, 20*20, 40*40, 80*80, 160*160])\n",
    "Error1 = np.array([4.9666e-03, 1.2096e-03, 2.9629e-04, 7.3227e-05, 1.8197e-05])\n",
    "Error2 = np.array([1.3400e-02, 3.3101e-03, 7.9268e-04 ,1.9362e-04, 4.7849e-05])\n",
    "ax.loglog(DoFs, Error1,'ko-', label='error1')\n",
    "ax.loglog(DoFs, Error2,'bo-', label='error2')\n",
    "ax.legend(loc='best')\n",
    "ax.set_xlabel('Degrees of freedom', fontsize=14)\n",
    "ax.set_ylabel('Error', fontsize=14);"
   ]
  },
  {
   "cell_type": "markdown",
   "metadata": {},
   "source": [
    "So the errors are equivalent, and can be seen the converge linearly with total number of degrees of freedom, but since we're in 2D this is equivalent to converging quadratically with $\\Delta x$ (or $\\Delta y$).\n",
    "\n",
    "The dashed lines on the left are: \n",
    "\n",
    "- black - I've plotted DoFs to the power 2.5 and 3, and our LU results are somewhere in between\n",
    "\n",
    "- blue - I've plotted  DoFs to the power 2.5 and CG seems to follow this quite well\n",
    "\n",
    "- red - for the sparse version of CG our results seem to follow DoF*log(DoF)\n",
    "\n",
    "\n",
    "So notice that exploiting the sparsity of the matrix is vitally important for overall algorithm efficiency."
   ]
  },
  {
   "cell_type": "markdown",
   "metadata": {},
   "source": [
    "## Homework - A case with a non-zero RHS and homogeneous Dirichlet BCs\n",
    "\n",
    "Let's consider now a Poisson problem with a non-zero RHS and zero Dirichlet BCs.\n",
    "\n",
    "Our PDEs is\n",
    "$$ \\frac{\\partial^2 c}{\\partial x^2} + \\frac{\\partial^2 c}{\\partial y^2} \\equiv \\nabla^2 c = f, $$\n",
    "\n",
    "with exact solution that is constructed to take the value zero on all boundaries:\n",
    "\n",
    "$$ c_{\\text{exact}}(x,y) = x^2 (1 - x)\\sin(\\pi y). $$\n",
    "\n",
    "We can easily evaluate the Laplacian of this function to give us the RHS function:\n",
    "\n",
    "$$ f = \\sin(\\pi y)  ( 2 - 6 x - (\\pi x)^2  (1 - x) ). $$\n",
    "\n",
    "Solve this problem using one of your solvers from above."
   ]
  },
  {
   "cell_type": "markdown",
   "metadata": {},
   "source": [
    "## Homework - A case with a non-zero RHS and inhomogeneous Dirichlet BCs\n",
    "\n",
    "Consider now a case with\n",
    "\n",
    "$$ c_{\\text{exact}}(x,y) = \\exp\\left(x + \\frac{y}{2}\\right), $$\n",
    "\n",
    "which is non-zero on the boundaries, and hence this same function can be used to specify Dirichlet BCS.\n",
    "\n",
    "We can easily evaluate the Laplacian of this function to give us the RHS function:\n",
    "\n",
    "$$ f = \\frac{5}{4}\\exp\\left(x + \\frac{y}{2}\\right). $$\n",
    "\n",
    "Solve this problem using one of your solvers."
   ]
  },
  {
   "cell_type": "markdown",
   "metadata": {},
   "source": [
    "<div class=\"advanced\">\n",
    "\n",
    "## Homework - Alternative solver methods for Navier-Stokes [$\\star\\star\\star$]\n",
    "\n",
    "In the lecture a major cost of our Navier-Stokes solver is the solution of the pressure Poisson equation within the pressure projection method.\n",
    "\n",
    "Try updating our CFD solver from lecture to use an LU based matrix solver for pressure instead.\n",
    "\n",
    "You will need to consider several things here:\n",
    "\n",
    "\n",
    "1. The imposition of homogeneous Neumann BCs in the generation of the discretisation matrix $A$.\n",
    "\n",
    "\n",
    "2. The imposition of the pressure level node in the generation of the discretisation matrix $A$ (I suggest for simplicity you use the big spring method here).\n",
    "\n",
    "<br>\n",
    "\n",
    "**Important comments on performance optimisation** \n",
    "\n",
    "Now while simple our Jacobi solver from the lecture actually performs quite well for our lid driven cavity case. Firstly, as considered above, as the solve is fully vectorised that means that each iteration is very efficient. Secondly, as we are solving this problem to steady state we need to do a lot of time step where things don't change much from one to the next. This is an advantage for the iterative solvers utilised within each time step: starting the Jacobi iteration using an initial guess from the previous time level means that we can minimise the number of iterations required to converge. Indeed for the lid-driven cavity we observe that while for early time levels we have to use a large number of iterations, for much of latter parts of the solve Jacobi only requires a single iteration to converge, this is because the pressure is not changing by very much between time levels.  For a fully time-dependent problem a simple solver like Jacobi is not viable, the ability to start from a reasonable initial guess (from the previous time level) and simply the overall size of the problem, points to an optimal solution being a matrix based iterative solver such a preconditioned CG.\n",
    "    \n",
    "</div>"
   ]
  }
 ],
 "metadata": {
  "celltoolbar": "Slideshow",
  "kernelspec": {
   "display_name": "Python 3",
   "language": "python",
   "name": "python3"
  },
  "language_info": {
   "codemirror_mode": {
    "name": "ipython",
    "version": 3
   },
   "file_extension": ".py",
   "mimetype": "text/x-python",
   "name": "python",
   "nbconvert_exporter": "python",
   "pygments_lexer": "ipython3",
   "version": "3.7.7"
  },
  "latex_envs": {
   "LaTeX_envs_menu_present": true,
   "autoclose": false,
   "autocomplete": true,
   "bibliofile": "biblio.bib",
   "cite_by": "apalike",
   "current_citInitial": 1,
   "eqLabelWithNumbers": true,
   "eqNumInitial": 1,
   "hotkeys": {
    "equation": "Ctrl-E",
    "itemize": "Ctrl-I"
   },
   "labels_anchors": false,
   "latex_user_defs": false,
   "report_style_numbering": false,
   "user_envs_cfg": false
  },
  "toc": {
   "base_numbering": "1",
   "nav_menu": {},
   "number_sections": true,
   "sideBar": true,
   "skip_h1_title": false,
   "title_cell": "Table of Contents",
   "title_sidebar": "Contents",
   "toc_cell": true,
   "toc_position": {},
   "toc_section_display": true,
   "toc_window_display": false
  }
 },
 "nbformat": 4,
 "nbformat_minor": 1
}
